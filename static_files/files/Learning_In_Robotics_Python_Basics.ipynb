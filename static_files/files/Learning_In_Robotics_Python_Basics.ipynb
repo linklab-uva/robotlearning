{
  "nbformat": 4,
  "nbformat_minor": 0,
  "metadata": {
    "kernelspec": {
      "display_name": "Python 3",
      "language": "python",
      "name": "python3"
    },
    "language_info": {
      "codemirror_mode": {
        "name": "ipython",
        "version": 3
      },
      "file_extension": ".py",
      "mimetype": "text/x-python",
      "name": "python",
      "nbconvert_exporter": "python",
      "pygments_lexer": "ipython3",
      "version": "3.6.9"
    },
    "colab": {
      "name": "Learning-In-Robotics-Python-Basics.ipynb",
      "provenance": [],
      "collapsed_sections": [
        "MZ4PU1OJmBdR",
        "a6bshcK0mBhc",
        "yFamnKg-mBiL",
        "YNTa94yNmBi8",
        "b5d7qvmImBjG"
      ]
    }
  },
  "cells": [
    {
      "cell_type": "markdown",
      "metadata": {
        "id": "c35H4hKEmBcd"
      },
      "source": [
        "*italicized text*# CS 6501/SYS 6581 Learning in Robotics - Python Basics\n",
        "\n",
        "### Outline\n",
        "\n",
        "* Google Colab (Setup, ngrok, Gdrive)\n",
        "* Crash course on Python\n",
        "    * Basic constructs\n",
        "    * Numpy\n",
        "    * Matplotlib\n",
        "* Tools (pycharm, vscode, ipdb, wandb, scikit-learn)\n",
        "\n"
      ]
    },
    {
      "cell_type": "markdown",
      "metadata": {
        "id": "-viQDV0smBci"
      },
      "source": [
        "# Google Colab\n",
        "\n",
        "Google colab is a free service that gives you access to jupyter notebooks with pre-installed packages. \n",
        "Access colab at: https://colab.research.google.com/. \n",
        "\n"
      ]
    },
    {
      "cell_type": "markdown",
      "metadata": {
        "id": "y72iAm1hmBct"
      },
      "source": [
        "### Installing software\n",
        "\n",
        "Every session of colab starts with the same base configuration \n",
        "\n",
        "* Any bash command can be executed by adding a ``!`` before the command. Add a custom set of bash commands at the top of the notebook to setup the Colab instance.\n",
        "\n",
        "``` !apt install zip tmux vim```\n",
        "\n",
        "* Although most required python packages are already installed, you can install additional ones using the command\n",
        "\n",
        "```pip install torchvision```\n"
      ]
    },
    {
      "cell_type": "code",
      "metadata": {
        "id": "Fxo5K9RsmZWN",
        "colab": {
          "base_uri": "https://localhost:8080/",
          "height": 591
        },
        "outputId": "7d071bce-2078-4bbb-b95b-661912ee6b47"
      },
      "source": [
        "!apt install tmux vim zsh"
      ],
      "execution_count": null,
      "outputs": [
        {
          "output_type": "stream",
          "text": [
            "Reading package lists... Done\n",
            "Building dependency tree       \n",
            "Reading state information... Done\n",
            "tmux is already the newest version (2.6-3ubuntu0.2).\n",
            "vim is already the newest version (2:8.0.1453-1ubuntu1.3).\n",
            "The following package was automatically installed and is no longer required:\n",
            "  libnvidia-common-440\n",
            "Use 'apt autoremove' to remove it.\n",
            "The following additional packages will be installed:\n",
            "  zsh-common\n",
            "Suggested packages:\n",
            "  zsh-doc\n",
            "The following NEW packages will be installed:\n",
            "  zsh zsh-common\n",
            "0 upgraded, 2 newly installed, 0 to remove and 39 not upgraded.\n",
            "Need to get 4,066 kB of archives.\n",
            "After this operation, 15.2 MB of additional disk space will be used.\n",
            "Get:1 http://archive.ubuntu.com/ubuntu bionic-updates/main amd64 zsh-common all 5.4.2-3ubuntu3.1 [3,376 kB]\n",
            "Get:2 http://archive.ubuntu.com/ubuntu bionic-updates/main amd64 zsh amd64 5.4.2-3ubuntu3.1 [690 kB]\n",
            "Fetched 4,066 kB in 1s (4,045 kB/s)\n",
            "Selecting previously unselected package zsh-common.\n",
            "(Reading database ... 146444 files and directories currently installed.)\n",
            "Preparing to unpack .../zsh-common_5.4.2-3ubuntu3.1_all.deb ...\n",
            "Unpacking zsh-common (5.4.2-3ubuntu3.1) ...\n",
            "Selecting previously unselected package zsh.\n",
            "Preparing to unpack .../zsh_5.4.2-3ubuntu3.1_amd64.deb ...\n",
            "Unpacking zsh (5.4.2-3ubuntu3.1) ...\n",
            "Setting up zsh-common (5.4.2-3ubuntu3.1) ...\n",
            "Setting up zsh (5.4.2-3ubuntu3.1) ...\n",
            "Processing triggers for man-db (2.8.3-2ubuntu0.1) ...\n"
          ],
          "name": "stdout"
        }
      ]
    },
    {
      "cell_type": "markdown",
      "metadata": {
        "id": "tLXPNV6jngoR"
      },
      "source": [
        "Colab has quite a few pre-installed packages"
      ]
    },
    {
      "cell_type": "code",
      "metadata": {
        "id": "mRuupGZemlrP",
        "colab": {
          "base_uri": "https://localhost:8080/",
          "height": 1000
        },
        "outputId": "8bb34e4a-1d23-429b-b3ca-adb9011e6576"
      },
      "source": [
        "!pip list"
      ],
      "execution_count": null,
      "outputs": [
        {
          "output_type": "stream",
          "text": [
            "Package                       Version        \n",
            "----------------------------- ---------------\n",
            "absl-py                       0.8.1          \n",
            "alabaster                     0.7.12         \n",
            "albumentations                0.1.12         \n",
            "altair                        4.1.0          \n",
            "argon2-cffi                   20.1.0         \n",
            "asgiref                       3.2.10         \n",
            "astor                         0.8.1          \n",
            "astropy                       4.0.1.post1    \n",
            "astunparse                    1.6.3          \n",
            "atari-py                      0.2.6          \n",
            "atomicwrites                  1.4.0          \n",
            "attrs                         20.1.0         \n",
            "audioread                     2.1.8          \n",
            "autograd                      1.3            \n",
            "Babel                         2.8.0          \n",
            "backcall                      0.2.0          \n",
            "beautifulsoup4                4.6.3          \n",
            "bleach                        3.1.5          \n",
            "blis                          0.4.1          \n",
            "bokeh                         2.1.1          \n",
            "boto                          2.49.0         \n",
            "boto3                         1.14.48        \n",
            "botocore                      1.17.48        \n",
            "Bottleneck                    1.3.2          \n",
            "branca                        0.4.1          \n",
            "bs4                           0.0.1          \n",
            "CacheControl                  0.12.6         \n",
            "cachetools                    4.1.1          \n",
            "catalogue                     1.0.0          \n",
            "certifi                       2020.6.20      \n",
            "cffi                          1.14.2         \n",
            "chainer                       7.4.0          \n",
            "chardet                       3.0.4          \n",
            "click                         7.1.2          \n",
            "cloudpickle                   1.3.0          \n",
            "cmake                         3.12.0         \n",
            "cmdstanpy                     0.4.0          \n",
            "colorlover                    0.3.0          \n",
            "community                     1.0.0b1        \n",
            "contextlib2                   0.5.5          \n",
            "convertdate                   2.2.1          \n",
            "coverage                      3.7.1          \n",
            "coveralls                     0.5            \n",
            "crcmod                        1.7            \n",
            "cufflinks                     0.17.3         \n",
            "cvxopt                        1.2.5          \n",
            "cvxpy                         1.0.31         \n",
            "cycler                        0.10.0         \n",
            "cymem                         2.0.3          \n",
            "Cython                        0.29.21        \n",
            "daft                          0.0.4          \n",
            "dask                          2.12.0         \n",
            "dataclasses                   0.7            \n",
            "datascience                   0.10.6         \n",
            "debugpy                       1.0.0rc2       \n",
            "decorator                     4.4.2          \n",
            "defusedxml                    0.6.0          \n",
            "descartes                     1.1.0          \n",
            "dill                          0.3.2          \n",
            "distributed                   1.25.3         \n",
            "Django                        3.1            \n",
            "dlib                          19.18.0        \n",
            "dm-tree                       0.1.5          \n",
            "docopt                        0.6.2          \n",
            "docutils                      0.15.2         \n",
            "dopamine-rl                   1.0.5          \n",
            "earthengine-api               0.1.232        \n",
            "easydict                      1.9            \n",
            "ecos                          2.0.7.post1    \n",
            "editdistance                  0.5.3          \n",
            "en-core-web-sm                2.2.5          \n",
            "entrypoints                   0.3            \n",
            "ephem                         3.7.7.1        \n",
            "et-xmlfile                    1.0.1          \n",
            "fa2                           0.3.5          \n",
            "fancyimpute                   0.4.3          \n",
            "fastai                        1.0.61         \n",
            "fastdtw                       0.3.4          \n",
            "fastprogress                  1.0.0          \n",
            "fastrlock                     0.5            \n",
            "fbprophet                     0.6            \n",
            "feather-format                0.4.1          \n",
            "filelock                      3.0.12         \n",
            "firebase-admin                4.1.0          \n",
            "fix-yahoo-finance             0.0.22         \n",
            "Flask                         1.1.2          \n",
            "folium                        0.8.3          \n",
            "future                        0.16.0         \n",
            "gast                          0.3.3          \n",
            "GDAL                          2.2.2          \n",
            "gdown                         3.6.4          \n",
            "gensim                        3.6.0          \n",
            "geographiclib                 1.50           \n",
            "geopy                         1.17.0         \n",
            "gin-config                    0.3.0          \n",
            "glob2                         0.7            \n",
            "google                        2.0.3          \n",
            "google-api-core               1.16.0         \n",
            "google-api-python-client      1.7.12         \n",
            "google-auth                   1.17.2         \n",
            "google-auth-httplib2          0.0.4          \n",
            "google-auth-oauthlib          0.4.1          \n",
            "google-cloud-bigquery         1.21.0         \n",
            "google-cloud-core             1.0.3          \n",
            "google-cloud-datastore        1.8.0          \n",
            "google-cloud-firestore        1.7.0          \n",
            "google-cloud-language         1.2.0          \n",
            "google-cloud-storage          1.18.1         \n",
            "google-cloud-translate        1.5.0          \n",
            "google-colab                  1.0.0          \n",
            "google-pasta                  0.2.0          \n",
            "google-resumable-media        0.4.1          \n",
            "googleapis-common-protos      1.52.0         \n",
            "googledrivedownloader         0.4            \n",
            "graphviz                      0.10.1         \n",
            "grpcio                        1.31.0         \n",
            "gspread                       3.0.1          \n",
            "gspread-dataframe             3.0.8          \n",
            "gym                           0.17.2         \n",
            "h5py                          2.10.0         \n",
            "HeapDict                      1.0.1          \n",
            "holidays                      0.9.12         \n",
            "holoviews                     1.13.3         \n",
            "html5lib                      1.0.1          \n",
            "httpimport                    0.5.18         \n",
            "httplib2                      0.17.4         \n",
            "httplib2shim                  0.0.3          \n",
            "humanize                      0.5.1          \n",
            "hyperopt                      0.1.2          \n",
            "ideep4py                      2.0.0.post3    \n",
            "idna                          2.10           \n",
            "image                         1.5.32         \n",
            "imageio                       2.4.1          \n",
            "imagesize                     1.2.0          \n",
            "imbalanced-learn              0.4.3          \n",
            "imblearn                      0.0            \n",
            "imgaug                        0.2.9          \n",
            "importlib-metadata            1.7.0          \n",
            "imutils                       0.5.3          \n",
            "inflect                       2.1.0          \n",
            "iniconfig                     1.0.1          \n",
            "intel-openmp                  2020.0.133     \n",
            "intervaltree                  2.1.0          \n",
            "ipykernel                     4.10.1         \n",
            "ipython                       5.5.0          \n",
            "ipython-genutils              0.2.0          \n",
            "ipython-sql                   0.3.9          \n",
            "ipywidgets                    7.5.1          \n",
            "itsdangerous                  1.1.0          \n",
            "jax                           0.1.75         \n",
            "jaxlib                        0.1.52         \n",
            "jdcal                         1.4.1          \n",
            "jedi                          0.17.2         \n",
            "jieba                         0.42.1         \n",
            "Jinja2                        2.11.2         \n",
            "jmespath                      0.10.0         \n",
            "joblib                        0.16.0         \n",
            "jpeg4py                       0.1.4          \n",
            "jsonschema                    2.6.0          \n",
            "jupyter                       1.0.0          \n",
            "jupyter-client                5.3.5          \n",
            "jupyter-console               5.2.0          \n",
            "jupyter-core                  4.6.3          \n",
            "kaggle                        1.5.6          \n",
            "kapre                         0.1.3.1        \n",
            "Keras                         2.4.3          \n",
            "Keras-Preprocessing           1.1.2          \n",
            "keras-vis                     0.4.1          \n",
            "kiwisolver                    1.2.0          \n",
            "knnimpute                     0.1.0          \n",
            "librosa                       0.6.3          \n",
            "lightgbm                      2.2.3          \n",
            "llvmlite                      0.31.0         \n",
            "lmdb                          0.99           \n",
            "lucid                         0.3.8          \n",
            "LunarCalendar                 0.0.9          \n",
            "lxml                          4.2.6          \n",
            "Markdown                      3.2.2          \n",
            "MarkupSafe                    1.1.1          \n",
            "matplotlib                    3.2.2          \n",
            "matplotlib-venn               0.11.5         \n",
            "missingno                     0.4.2          \n",
            "mistune                       0.8.4          \n",
            "mizani                        0.6.0          \n",
            "mkl                           2019.0         \n",
            "mlxtend                       0.14.0         \n",
            "more-itertools                8.4.0          \n",
            "moviepy                       0.2.3.5        \n",
            "mpmath                        1.1.0          \n",
            "msgpack                       1.0.0          \n",
            "multiprocess                  0.70.10        \n",
            "multitasking                  0.0.9          \n",
            "murmurhash                    1.0.2          \n",
            "music21                       5.5.0          \n",
            "natsort                       5.5.0          \n",
            "nbconvert                     5.6.1          \n",
            "nbformat                      5.0.7          \n",
            "networkx                      2.5            \n",
            "nibabel                       3.0.2          \n",
            "nltk                          3.2.5          \n",
            "notebook                      5.3.1          \n",
            "np-utils                      0.5.12.1       \n",
            "numba                         0.48.0         \n",
            "numexpr                       2.7.1          \n",
            "numpy                         1.18.5         \n",
            "nvidia-ml-py3                 7.352.0        \n",
            "oauth2client                  4.1.3          \n",
            "oauthlib                      3.1.0          \n",
            "okgrade                       0.4.3          \n",
            "opencv-contrib-python         4.1.2.30       \n",
            "opencv-python                 4.1.2.30       \n",
            "openpyxl                      2.5.9          \n",
            "opt-einsum                    3.3.0          \n",
            "osqp                          0.6.1          \n",
            "packaging                     20.4           \n",
            "palettable                    3.3.0          \n",
            "pandas                        1.0.5          \n",
            "pandas-datareader             0.8.1          \n",
            "pandas-gbq                    0.11.0         \n",
            "pandas-profiling              1.4.1          \n",
            "pandocfilters                 1.4.2          \n",
            "panel                         0.9.7          \n",
            "param                         1.9.3          \n",
            "parso                         0.7.1          \n",
            "pathlib                       1.0.1          \n",
            "patsy                         0.5.1          \n",
            "pexpect                       4.8.0          \n",
            "pickleshare                   0.7.5          \n",
            "Pillow                        7.0.0          \n",
            "pip                           19.3.1         \n",
            "pip-tools                     4.5.1          \n",
            "plac                          1.1.3          \n",
            "plotly                        4.4.1          \n",
            "plotnine                      0.6.0          \n",
            "pluggy                        0.7.1          \n",
            "portpicker                    1.3.1          \n",
            "prefetch-generator            1.0.1          \n",
            "preshed                       3.0.2          \n",
            "prettytable                   0.7.2          \n",
            "progressbar2                  3.38.0         \n",
            "prometheus-client             0.8.0          \n",
            "promise                       2.3            \n",
            "prompt-toolkit                1.0.18         \n",
            "protobuf                      3.12.4         \n",
            "psutil                        5.4.8          \n",
            "psycopg2                      2.7.6.1        \n",
            "ptyprocess                    0.6.0          \n",
            "py                            1.9.0          \n",
            "pyarrow                       0.14.1         \n",
            "pyasn1                        0.4.8          \n",
            "pyasn1-modules                0.2.8          \n",
            "pycocotools                   2.0.1          \n",
            "pycparser                     2.20           \n",
            "pyct                          0.4.6          \n",
            "pydata-google-auth            1.1.0          \n",
            "pydot                         1.3.0          \n",
            "pydot-ng                      2.0.0          \n",
            "pydotplus                     2.0.2          \n",
            "PyDrive                       1.3.1          \n",
            "pyemd                         0.5.1          \n",
            "pyglet                        1.5.0          \n",
            "Pygments                      2.1.3          \n",
            "pygobject                     3.26.1         \n",
            "pymc3                         3.7            \n",
            "PyMeeus                       0.3.7          \n",
            "pymongo                       3.11.0         \n",
            "pymystem3                     0.2.0          \n",
            "PyOpenGL                      3.1.5          \n",
            "pyparsing                     2.4.7          \n",
            "pyrsistent                    0.16.0         \n",
            "pysndfile                     1.3.8          \n",
            "PySocks                       1.7.1          \n",
            "pystan                        2.19.1.1       \n",
            "pytest                        3.6.4          \n",
            "python-apt                    1.6.5+ubuntu0.3\n",
            "python-chess                  0.23.11        \n",
            "python-dateutil               2.8.1          \n",
            "python-louvain                0.14           \n",
            "python-slugify                4.0.1          \n",
            "python-utils                  2.4.0          \n",
            "pytz                          2018.9         \n",
            "pyviz-comms                   0.7.6          \n",
            "PyWavelets                    1.1.1          \n",
            "PyYAML                        3.13           \n",
            "pyzmq                         19.0.2         \n",
            "qtconsole                     4.7.6          \n",
            "QtPy                          1.9.0          \n",
            "regex                         2019.12.20     \n",
            "requests                      2.23.0         \n",
            "requests-oauthlib             1.3.0          \n",
            "resampy                       0.2.2          \n",
            "retrying                      1.3.3          \n",
            "rpy2                          3.2.7          \n",
            "rsa                           4.6            \n",
            "s3transfer                    0.3.3          \n",
            "scikit-image                  0.16.2         \n",
            "scikit-learn                  0.22.2.post1   \n",
            "scipy                         1.4.1          \n",
            "screen-resolution-extra       0.0.0          \n",
            "scs                           2.1.2          \n",
            "seaborn                       0.10.1         \n",
            "Send2Trash                    1.5.0          \n",
            "setuptools                    49.6.0         \n",
            "setuptools-git                1.2            \n",
            "Shapely                       1.7.1          \n",
            "simplegeneric                 0.8.1          \n",
            "six                           1.15.0         \n",
            "sklearn                       0.0            \n",
            "sklearn-pandas                1.8.0          \n",
            "smart-open                    2.1.0          \n",
            "snowballstemmer               2.0.0          \n",
            "sortedcontainers              2.2.2          \n",
            "spacy                         2.2.4          \n",
            "Sphinx                        1.8.5          \n",
            "sphinxcontrib-serializinghtml 1.1.4          \n",
            "sphinxcontrib-websupport      1.2.4          \n",
            "SQLAlchemy                    1.3.19         \n",
            "sqlparse                      0.3.1          \n",
            "srsly                         1.0.2          \n",
            "statsmodels                   0.10.2         \n",
            "sympy                         1.1.1          \n",
            "tables                        3.4.4          \n",
            "tabulate                      0.8.7          \n",
            "tblib                         1.7.0          \n",
            "tensorboard                   2.3.0          \n",
            "tensorboard-plugin-wit        1.7.0          \n",
            "tensorboardcolab              0.0.22         \n",
            "tensorflow                    2.3.0          \n",
            "tensorflow-addons             0.8.3          \n",
            "tensorflow-datasets           2.1.0          \n",
            "tensorflow-estimator          2.3.0          \n",
            "tensorflow-gcs-config         2.3.0          \n",
            "tensorflow-hub                0.9.0          \n",
            "tensorflow-metadata           0.23.0         \n",
            "tensorflow-privacy            0.2.2          \n",
            "tensorflow-probability        0.11.0         \n",
            "termcolor                     1.1.0          \n",
            "terminado                     0.8.3          \n",
            "testpath                      0.4.4          \n",
            "text-unidecode                1.3            \n",
            "textblob                      0.15.3         \n",
            "textgenrnn                    1.4.1          \n",
            "Theano                        1.0.5          \n",
            "thinc                         7.4.0          \n",
            "tifffile                      2020.8.25      \n",
            "toml                          0.10.1         \n",
            "toolz                         0.10.0         \n",
            "torch                         1.6.0+cu101    \n",
            "torchsummary                  1.5.1          \n",
            "torchtext                     0.3.1          \n",
            "torchvision                   0.7.0+cu101    \n",
            "tornado                       5.1.1          \n",
            "tqdm                          4.41.1         \n",
            "traitlets                     4.3.3          \n",
            "tweepy                        3.6.0          \n",
            "typeguard                     2.7.1          \n",
            "typing-extensions             3.7.4.3        \n",
            "tzlocal                       1.5.1          \n",
            "umap-learn                    0.4.6          \n",
            "uritemplate                   3.0.1          \n",
            "urllib3                       1.24.3         \n",
            "vega-datasets                 0.8.0          \n",
            "wasabi                        0.7.1          \n",
            "wcwidth                       0.2.5          \n",
            "webencodings                  0.5.1          \n",
            "Werkzeug                      1.0.1          \n",
            "wheel                         0.35.1         \n",
            "widgetsnbextension            3.5.1          \n",
            "wordcloud                     1.5.0          \n",
            "wrapt                         1.12.1         \n",
            "xarray                        0.15.1         \n",
            "xgboost                       0.90           \n",
            "xkit                          0.0.0          \n",
            "xlrd                          1.1.0          \n",
            "xlwt                          1.3.0          \n",
            "yellowbrick                   0.9.1          \n",
            "zict                          2.0.0          \n",
            "zipp                          3.1.0          \n"
          ],
          "name": "stdout"
        }
      ]
    },
    {
      "cell_type": "code",
      "metadata": {
        "id": "TVpOY_-QXo2k",
        "colab": {
          "base_uri": "https://localhost:8080/",
          "height": 1000
        },
        "outputId": "e5f97dba-5670-43c6-a9b6-30861d5bdf1c"
      },
      "source": [
        "pip install wandb"
      ],
      "execution_count": null,
      "outputs": [
        {
          "output_type": "stream",
          "text": [
            "Collecting wandb\n",
            "\u001b[?25l  Downloading https://files.pythonhosted.org/packages/ab/cc/cbc171540f682a7ebcbe0ca8bcd0cb002e9dfaac0d10dba51717141c7c23/wandb-0.9.6-py2.py3-none-any.whl (1.4MB)\n",
            "\u001b[K     |████████████████████████████████| 1.4MB 2.9MB/s \n",
            "\u001b[?25hCollecting shortuuid>=0.5.0\n",
            "  Downloading https://files.pythonhosted.org/packages/25/a6/2ecc1daa6a304e7f1b216f0896b26156b78e7c38e1211e9b798b4716c53d/shortuuid-1.0.1-py3-none-any.whl\n",
            "Collecting docker-pycreds>=0.4.0\n",
            "  Downloading https://files.pythonhosted.org/packages/f5/e8/f6bd1eee09314e7e6dee49cbe2c5e22314ccdb38db16c9fc72d2fa80d054/docker_pycreds-0.4.0-py2.py3-none-any.whl\n",
            "Collecting sentry-sdk>=0.4.0\n",
            "\u001b[?25l  Downloading https://files.pythonhosted.org/packages/74/21/f40591e2e3135cc89ae447d00685ec6ec4e745986b6011a8220103e9df65/sentry_sdk-0.17.3-py2.py3-none-any.whl (116kB)\n",
            "\u001b[K     |████████████████████████████████| 122kB 18.3MB/s \n",
            "\u001b[?25hRequirement already satisfied: psutil>=5.0.0 in /usr/local/lib/python3.6/dist-packages (from wandb) (5.4.8)\n",
            "Requirement already satisfied: nvidia-ml-py3>=7.352.0 in /usr/local/lib/python3.6/dist-packages (from wandb) (7.352.0)\n",
            "Collecting watchdog>=0.8.3\n",
            "\u001b[?25l  Downloading https://files.pythonhosted.org/packages/0e/06/121302598a4fc01aca942d937f4a2c33430b7181137b35758913a8db10ad/watchdog-0.10.3.tar.gz (94kB)\n",
            "\u001b[K     |████████████████████████████████| 102kB 6.1MB/s \n",
            "\u001b[?25hCollecting configparser>=3.8.1\n",
            "  Downloading https://files.pythonhosted.org/packages/4b/6b/01baa293090240cf0562cc5eccb69c6f5006282127f2b846fad011305c79/configparser-5.0.0-py3-none-any.whl\n",
            "Requirement already satisfied: python-dateutil>=2.6.1 in /usr/local/lib/python3.6/dist-packages (from wandb) (2.8.1)\n",
            "Collecting subprocess32>=3.5.3\n",
            "\u001b[?25l  Downloading https://files.pythonhosted.org/packages/32/c8/564be4d12629b912ea431f1a50eb8b3b9d00f1a0b1ceff17f266be190007/subprocess32-3.5.4.tar.gz (97kB)\n",
            "\u001b[K     |████████████████████████████████| 102kB 8.0MB/s \n",
            "\u001b[?25hCollecting GitPython>=1.0.0\n",
            "\u001b[?25l  Downloading https://files.pythonhosted.org/packages/f9/1e/a45320cab182bf1c8656107b3d4c042e659742822fc6bff150d769a984dd/GitPython-3.1.7-py3-none-any.whl (158kB)\n",
            "\u001b[K     |████████████████████████████████| 163kB 18.9MB/s \n",
            "\u001b[?25hRequirement already satisfied: six>=1.10.0 in /usr/local/lib/python3.6/dist-packages (from wandb) (1.15.0)\n",
            "Requirement already satisfied: PyYAML>=3.10 in /usr/local/lib/python3.6/dist-packages (from wandb) (3.13)\n",
            "Requirement already satisfied: Click>=7.0 in /usr/local/lib/python3.6/dist-packages (from wandb) (7.1.2)\n",
            "Collecting gql==0.2.0\n",
            "  Downloading https://files.pythonhosted.org/packages/c4/6f/cf9a3056045518f06184e804bae89390eb706168349daa9dff8ac609962a/gql-0.2.0.tar.gz\n",
            "Requirement already satisfied: requests>=2.0.0 in /usr/local/lib/python3.6/dist-packages (from wandb) (2.23.0)\n",
            "Requirement already satisfied: urllib3>=1.10.0 in /usr/local/lib/python3.6/dist-packages (from sentry-sdk>=0.4.0->wandb) (1.24.3)\n",
            "Requirement already satisfied: certifi in /usr/local/lib/python3.6/dist-packages (from sentry-sdk>=0.4.0->wandb) (2020.6.20)\n",
            "Collecting pathtools>=0.1.1\n",
            "  Downloading https://files.pythonhosted.org/packages/e7/7f/470d6fcdf23f9f3518f6b0b76be9df16dcc8630ad409947f8be2eb0ed13a/pathtools-0.1.2.tar.gz\n",
            "Collecting gitdb<5,>=4.0.1\n",
            "\u001b[?25l  Downloading https://files.pythonhosted.org/packages/48/11/d1800bca0a3bae820b84b7d813ad1eff15a48a64caea9c823fc8c1b119e8/gitdb-4.0.5-py3-none-any.whl (63kB)\n",
            "\u001b[K     |████████████████████████████████| 71kB 6.7MB/s \n",
            "\u001b[?25hCollecting graphql-core<2,>=0.5.0\n",
            "\u001b[?25l  Downloading https://files.pythonhosted.org/packages/b0/89/00ad5e07524d8c523b14d70c685e0299a8b0de6d0727e368c41b89b7ed0b/graphql-core-1.1.tar.gz (70kB)\n",
            "\u001b[K     |████████████████████████████████| 71kB 6.1MB/s \n",
            "\u001b[?25hRequirement already satisfied: promise<3,>=2.0 in /usr/local/lib/python3.6/dist-packages (from gql==0.2.0->wandb) (2.3)\n",
            "Requirement already satisfied: chardet<4,>=3.0.2 in /usr/local/lib/python3.6/dist-packages (from requests>=2.0.0->wandb) (3.0.4)\n",
            "Requirement already satisfied: idna<3,>=2.5 in /usr/local/lib/python3.6/dist-packages (from requests>=2.0.0->wandb) (2.10)\n",
            "Collecting smmap<4,>=3.0.1\n",
            "  Downloading https://files.pythonhosted.org/packages/b0/9a/4d409a6234eb940e6a78dfdfc66156e7522262f5f2fecca07dc55915952d/smmap-3.0.4-py2.py3-none-any.whl\n",
            "Building wheels for collected packages: watchdog, subprocess32, gql, pathtools, graphql-core\n",
            "  Building wheel for watchdog (setup.py) ... \u001b[?25l\u001b[?25hdone\n",
            "  Created wheel for watchdog: filename=watchdog-0.10.3-cp36-none-any.whl size=73873 sha256=a326149d68d20b7d9c7b8312ed4e334a6231e4d1f12367ef68dbd3f350587f0c\n",
            "  Stored in directory: /root/.cache/pip/wheels/a8/1d/38/2c19bb311f67cc7b4d07a2ec5ea36ab1a0a0ea50db994a5bc7\n",
            "  Building wheel for subprocess32 (setup.py) ... \u001b[?25l\u001b[?25hdone\n",
            "  Created wheel for subprocess32: filename=subprocess32-3.5.4-cp36-none-any.whl size=6489 sha256=e9ee426a90953467995d535ded489a427973a5ff2ebd5115c9e2a88f84117efc\n",
            "  Stored in directory: /root/.cache/pip/wheels/68/39/1a/5e402bdfdf004af1786c8b853fd92f8c4a04f22aad179654d1\n",
            "  Building wheel for gql (setup.py) ... \u001b[?25l\u001b[?25hdone\n",
            "  Created wheel for gql: filename=gql-0.2.0-cp36-none-any.whl size=7630 sha256=550985fea89cf58a8c34c7cde2d164110cb16db19f1590729e78b625e72a6142\n",
            "  Stored in directory: /root/.cache/pip/wheels/ce/0e/7b/58a8a5268655b3ad74feef5aa97946f0addafb3cbb6bd2da23\n",
            "  Building wheel for pathtools (setup.py) ... \u001b[?25l\u001b[?25hdone\n",
            "  Created wheel for pathtools: filename=pathtools-0.1.2-cp36-none-any.whl size=8785 sha256=d679a6716f4eb6a958d1d7215f5a871b62a7b622758ee92226bd2f4fe5261ece\n",
            "  Stored in directory: /root/.cache/pip/wheels/0b/04/79/c3b0c3a0266a3cb4376da31e5bfe8bba0c489246968a68e843\n",
            "  Building wheel for graphql-core (setup.py) ... \u001b[?25l\u001b[?25hdone\n",
            "  Created wheel for graphql-core: filename=graphql_core-1.1-cp36-none-any.whl size=104651 sha256=1cd303be04259465f435ec218d53ded1c3009667985eef01744d19d730a50d0b\n",
            "  Stored in directory: /root/.cache/pip/wheels/45/99/d7/c424029bb0fe910c63b68dbf2aa20d3283d023042521bcd7d5\n",
            "Successfully built watchdog subprocess32 gql pathtools graphql-core\n",
            "Installing collected packages: shortuuid, docker-pycreds, sentry-sdk, pathtools, watchdog, configparser, subprocess32, smmap, gitdb, GitPython, graphql-core, gql, wandb\n",
            "Successfully installed GitPython-3.1.7 configparser-5.0.0 docker-pycreds-0.4.0 gitdb-4.0.5 gql-0.2.0 graphql-core-1.1 pathtools-0.1.2 sentry-sdk-0.17.3 shortuuid-1.0.1 smmap-3.0.4 subprocess32-3.5.4 wandb-0.9.6 watchdog-0.10.3\n"
          ],
          "name": "stdout"
        }
      ]
    },
    {
      "cell_type": "code",
      "metadata": {
        "id": "_TbN_-Ivn-oE",
        "colab": {
          "base_uri": "https://localhost:8080/",
          "height": 170
        },
        "outputId": "1a8dd6c2-7179-43a5-bb0d-76c690ddee1b"
      },
      "source": [
        "!bash"
      ],
      "execution_count": null,
      "outputs": [
        {
          "output_type": "stream",
          "text": [
            "bash: cannot set terminal process group (102): Inappropriate ioctl for device\n",
            "bash: no job control in this shell\n",
            "\u001b]0;root@35a7c9204441: /content\u0007\u001b[01;32mroot@35a7c9204441\u001b[00m:\u001b[01;34m/content\u001b[00m# ls\n",
            "\u001b[0m\u001b[01;34msample_data\u001b[0m\n",
            "\u001b]0;root@35a7c9204441: /content\u0007\u001b[01;32mroot@35a7c9204441\u001b[00m:\u001b[01;34m/content\u001b[00m# pwd\n",
            "/content\n",
            "\u001b]0;root@35a7c9204441: /content\u0007\u001b[01;32mroot@35a7c9204441\u001b[00m:\u001b[01;34m/content\u001b[00m# exit\n",
            "exit\n"
          ],
          "name": "stdout"
        }
      ]
    },
    {
      "cell_type": "markdown",
      "metadata": {
        "id": "P3qVT9dymBcz"
      },
      "source": [
        "### Workflow\n",
        "\n",
        "* Shortcuts: Customize the collection of shortcuts and refer to the Help section. Some useful shortcuts to know are:\n",
        "    * Help          - ``Ctrl+M H``\n",
        "    * Run           - ``Shift+Enter``, ``Ctrl+Enter``, ``Alt+Enter``\n",
        "    * Delete Cell   - ``Ctrl+M D``\n",
        "    * Scratch       - ``Ctrl+Alt+N``\n",
        "* Use GPU: Colab does not start with a GPU by default and the same needs to be configured. Only use the GPU when necessary in order to get favorable allocations of GPUs from the Colab backend.\n",
        "     * Runtime -> Change Runtime Type -> GPU\n",
        "     * Check if a GPU is attached, using the command ``!nvidia-smi``\n",
        "* Connect to Gdrive: In order to save checkpoints, models and data, connect to you Gdrive account to use as a persistent storage. "
      ]
    },
    {
      "cell_type": "code",
      "metadata": {
        "id": "bba9h0jtoJb3",
        "colab": {
          "base_uri": "https://localhost:8080/",
          "height": 55
        },
        "outputId": "cf0ef198-de7e-4757-a990-6b639a4a9802"
      },
      "source": [
        "nvidia-smi"
      ],
      "execution_count": null,
      "outputs": [
        {
          "output_type": "stream",
          "text": [
            "NVIDIA-SMI has failed because it couldn't communicate with the NVIDIA driver. Make sure that the latest NVIDIA driver is installed and running.\n",
            "\n"
          ],
          "name": "stdout"
        }
      ]
    },
    {
      "cell_type": "code",
      "metadata": {
        "id": "UfRRMTnOqihm",
        "colab": {
          "base_uri": "https://localhost:8080/",
          "height": 133
        },
        "outputId": "a16100ba-2b75-4fba-f5c7-5c257570dfa9"
      },
      "source": [
        "from google.colab import drive\n",
        "drive.mount('gdrive')"
      ],
      "execution_count": null,
      "outputs": [
        {
          "output_type": "stream",
          "text": [
            "Go to this URL in a browser: https://accounts.google.com/o/oauth2/auth?client_id=947318989803-6bn6qk8qdgf4n4g3pfee6491hc0brc4i.apps.googleusercontent.com&redirect_uri=urn%3aietf%3awg%3aoauth%3a2.0%3aoob&scope=email%20https%3a%2f%2fwww.googleapis.com%2fauth%2fdocs.test%20https%3a%2f%2fwww.googleapis.com%2fauth%2fdrive%20https%3a%2f%2fwww.googleapis.com%2fauth%2fdrive.photos.readonly%20https%3a%2f%2fwww.googleapis.com%2fauth%2fpeopleapi.readonly&response_type=code\n",
            "\n",
            "Enter your authorization code:\n",
            "··········\n",
            "Mounted at gdrive\n"
          ],
          "name": "stdout"
        }
      ]
    },
    {
      "cell_type": "markdown",
      "metadata": {
        "id": "qDw21eGDtdE4"
      },
      "source": [
        "Colab disconnects if the browser tab is inactive.\n",
        "![colab.jpg](data:image/jpeg;base64,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)\n",
        "\n",
        "\n",
        " A workaround is execute the following code in the browser console (See [reference](https://stackoverflow.com/questions/57113226/how-to-prevent-google-colab-from-disconnecting) )\n",
        "```\n",
        "function ConnectButton(){\n",
        "    console.log(\"Connect pushed\"); \n",
        "    document.querySelector(\"#top-toolbar > colab-connect-button\").shadowRoot.querySelector(\"#connect\").click() \n",
        "}\n",
        "setInterval(ConnectButton,60000);\n",
        "```"
      ]
    },
    {
      "cell_type": "markdown",
      "metadata": {
        "id": "MQGXh_NasunY"
      },
      "source": [
        "### Ngrok\n",
        "\n",
        "Any colab instance has an underlying VM which one can access through the *SSH* protocol. ( [Reference](https://imadelhanafi.com/posts/google_colal_server/)). One has to setup an Ngrok tunnel, that tunnels all traffic through a secure Ngrok server. Create an Ngrok account and use the authkey in order to authenticate the tunnel"
      ]
    },
    {
      "cell_type": "code",
      "metadata": {
        "id": "onHHHoCVv_22",
        "colab": {
          "base_uri": "https://localhost:8080/",
          "height": 304
        },
        "outputId": "fda7b599-bdf0-4128-b7bb-835947548d4a"
      },
      "source": [
        "#Generate a random root password\n",
        "import random, string\n",
        "password = ''.join(random.choice(string.ascii_letters + string.digits) for i in range(30))\n",
        "\n",
        "\n",
        "#Setup sshd\n",
        "! apt-get install -qq -o=Dpkg::Use-Pty=0 openssh-server pwgen > /dev/null\n",
        "\n",
        "#Set root password\n",
        "! echo root:$password | chpasswd\n",
        "! mkdir -p /var/run/sshd\n",
        "! echo \"PermitRootLogin yes\" >> /etc/ssh/sshd_config\n",
        "! echo \"PasswordAuthentication yes\" >> /etc/ssh/sshd_config\n",
        "\n",
        "print(\"username: root\")\n",
        "print(\"password: \", password)\n",
        "\n",
        "#Run sshd\n",
        "get_ipython().system_raw('/usr/sbin/sshd -D &')"
      ],
      "execution_count": null,
      "outputs": [
        {
          "output_type": "stream",
          "text": [
            "\n",
            "\n",
            "Creating config file /etc/ssh/sshd_config with new version\n",
            "Creating SSH2 RSA key; this may take some time ...\n",
            "2048 SHA256:sm1wdPzDyBn0r7ouETrl8tkgv1kS4grbuTRYkGnvjUw root@ec435fd26322 (RSA)\n",
            "Creating SSH2 ECDSA key; this may take some time ...\n",
            "256 SHA256:yP6BKPwCXKnWl5VLIE2tDHQBqJU5jGb3N1WYX6I+tp0 root@ec435fd26322 (ECDSA)\n",
            "Creating SSH2 ED25519 key; this may take some time ...\n",
            "256 SHA256:G2BOpRbIzmvXfRYA/YAQObNC0qmxXhTA7LSgNquHI7E root@ec435fd26322 (ED25519)\n",
            "Created symlink /etc/systemd/system/sshd.service → /lib/systemd/system/ssh.service.\n",
            "Created symlink /etc/systemd/system/multi-user.target.wants/ssh.service → /lib/systemd/system/ssh.service.\n",
            "invoke-rc.d: could not determine current runlevel\n",
            "invoke-rc.d: policy-rc.d denied execution of start.\n",
            "username: root\n",
            "password:  NpRaAXY5LRcubpJRszVdCZgbvb1kRI\n"
          ],
          "name": "stdout"
        }
      ]
    },
    {
      "cell_type": "code",
      "metadata": {
        "id": "MbPeACEeu1Zt"
      },
      "source": [
        "! wget -q -c -nc https://bin.equinox.io/c/4VmDzA7iaHb/ngrok-stable-linux-amd64.zip\n",
        "! unzip -qq -n ngrok-stable-linux-amd64.zip"
      ],
      "execution_count": null,
      "outputs": []
    },
    {
      "cell_type": "code",
      "metadata": {
        "id": "DNG86LL7vDOo",
        "colab": {
          "base_uri": "https://localhost:8080/",
          "height": 36
        },
        "outputId": "90cc1290-f065-40c8-f09d-c769ae3b8fc1"
      },
      "source": [
        "!./ngrok authtoken 1gtmTOn4wyMPGn0mihLg3ouDEhl_7uu1TuUxFQHjh65b9Mrm2"
      ],
      "execution_count": null,
      "outputs": [
        {
          "output_type": "stream",
          "text": [
            "Authtoken saved to configuration file: /root/.ngrok2/ngrok.yml\n"
          ],
          "name": "stdout"
        }
      ]
    },
    {
      "cell_type": "code",
      "metadata": {
        "id": "kC5dYMhnvLJ4",
        "colab": {
          "base_uri": "https://localhost:8080/",
          "height": 36
        },
        "outputId": "206d393a-a7b4-4872-cf99-95c5e308efe3"
      },
      "source": [
        "import getpass\n",
        "authtoken = getpass.getpass()\n",
        "\n",
        "#Create tunnel\n",
        "get_ipython().system_raw('./ngrok authtoken $authtoken && ./ngrok tcp 22 &')"
      ],
      "execution_count": null,
      "outputs": [
        {
          "output_type": "stream",
          "text": [
            "··········\n"
          ],
          "name": "stdout"
        }
      ]
    },
    {
      "cell_type": "markdown",
      "metadata": {
        "id": "OJmNPezuxmKs"
      },
      "source": [
        "# Dev Tools"
      ]
    },
    {
      "cell_type": "markdown",
      "metadata": {
        "id": "YQ1M3zU4x1fN"
      },
      "source": [
        "* Editor\n",
        "    * VS-Code\n",
        "        * Has great integration with Pytorch. Debugging is great too\n",
        "    * Pycharm\n",
        "    * Sublime, Atom, Vim, Emacs\n",
        "* Ipdb and Debugging\n",
        "    * Debugger is a very useful tool for identifying failure modes and the cause for exceptions.\n",
        "* Wandb \n",
        "    * If you want to store accuracy and loss curves alongside the code in a centralized manner, consider using [wandb](https://www.wandb.com/).\n",
        "    * Free account gives you access to unlimited number of projects and 100GB storage in total. \n",
        "    * Easy to keep track of models trained on a combination of GPU, local machine and AWS cluster on different hyper-parameter settings.\n",
        "\n",
        "* Scikit-learn:\n",
        "    * Dimensionality Reduction\n",
        "    * Data processing/Sampling\n",
        "    * Adding Boosting/Bagging to NNs"
      ]
    },
    {
      "cell_type": "code",
      "metadata": {
        "id": "j5ovEFWNX9Cp",
        "colab": {
          "base_uri": "https://localhost:8080/",
          "height": 73
        },
        "outputId": "967ffffe-f5f6-4523-d297-337e1a1b1711"
      },
      "source": [
        "import numpy as np\n",
        "import wandb\n",
        "import time\n",
        "\n",
        "wandb.init(project=\"python_recitation\")\n",
        "# Set hyper parameters\n",
        "wandb.config.month = \"Sep\"\n",
        "\n",
        "for i in range(10):\n",
        "    time.sleep(5)\n",
        "    wandb.log({\"random number\": np.random.uniform(0, 1, 1)})"
      ],
      "execution_count": null,
      "outputs": [
        {
          "output_type": "display_data",
          "data": {
            "text/html": [
              "\n",
              "                Logging results to <a href=\"https://wandb.com\" target=\"_blank\">Weights & Biases</a> <a href=\"https://docs.wandb.com/integrations/jupyter.html\" target=\"_blank\">(Documentation)</a>.<br/>\n",
              "                Project page: <a href=\"https://app.wandb.ai/rahul13/python_recitation\" target=\"_blank\">https://app.wandb.ai/rahul13/python_recitation</a><br/>\n",
              "                Run page: <a href=\"https://app.wandb.ai/rahul13/python_recitation/runs/vyymjsnn\" target=\"_blank\">https://app.wandb.ai/rahul13/python_recitation/runs/vyymjsnn</a><br/>\n",
              "            "
            ],
            "text/plain": [
              "<IPython.core.display.HTML object>"
            ]
          },
          "metadata": {
            "tags": []
          }
        }
      ]
    },
    {
      "cell_type": "markdown",
      "metadata": {
        "id": "arTld_lsmBc7"
      },
      "source": [
        "# A Tutorial on Python\n",
        "Basics of python "
      ]
    },
    {
      "cell_type": "markdown",
      "metadata": {
        "id": "ARRDB55UmBc_"
      },
      "source": [
        "### Why Python?\n",
        "* Libraries for Scientific Computing (NumPy, SciPy, Matplotlib)\n",
        "* Most Deep Learning frameworks are in Python (Tensorflow, Pytorch, Caffe)\n",
        "* Large and active community"
      ]
    },
    {
      "cell_type": "markdown",
      "metadata": {
        "id": "F8fszOF8mBdO"
      },
      "source": [
        "We will follow Python 3.x. Behaviour can slightly vary for Python 2.7"
      ]
    },
    {
      "cell_type": "markdown",
      "metadata": {
        "id": "MZ4PU1OJmBdR"
      },
      "source": [
        "### Data Types\n",
        "``int`` and ``float`` are similar to most other languages"
      ]
    },
    {
      "cell_type": "code",
      "metadata": {
        "id": "57n_403SmBdT",
        "outputId": "aef72325-8aec-4bed-f110-bd1ade7b02f8"
      },
      "source": [
        "x = 3\n",
        "print(x)   # Adds new line\n",
        "print(\"The type of Variable 'x' is: %s\" % type(x))"
      ],
      "execution_count": null,
      "outputs": [
        {
          "output_type": "stream",
          "text": [
            "3\n",
            "The type of Variable 'x' is: <class 'int'>\n"
          ],
          "name": "stdout"
        }
      ]
    },
    {
      "cell_type": "markdown",
      "metadata": {
        "id": "MJDILSz4mBdv"
      },
      "source": [
        "Operations work like you would expect them to"
      ]
    },
    {
      "cell_type": "code",
      "metadata": {
        "id": "y11Z7Ug7mBdx",
        "outputId": "c682f67b-3830-48c4-8b76-01be0f7b967f"
      },
      "source": [
        "print(x + 1)   # Addition;\n",
        "print(x - 1)   # Subtraction;\n",
        "print(x * 2)   # Multiplication;\n",
        "print(x ** 2)  # Exponentiation\n",
        "print(x / 2)   # Division\n",
        "print(x % 2)   # Remainder \n",
        "print(x // 2)  # Integral quotient"
      ],
      "execution_count": null,
      "outputs": [
        {
          "output_type": "stream",
          "text": [
            "4\n",
            "2\n",
            "6\n",
            "9\n",
            "1.5\n",
            "1\n",
            "1\n"
          ],
          "name": "stdout"
        }
      ]
    },
    {
      "cell_type": "markdown",
      "metadata": {
        "id": "6Y8sWTYvmBeD"
      },
      "source": [
        "``float`` operates similarly"
      ]
    },
    {
      "cell_type": "code",
      "metadata": {
        "id": "c1MjfzAMmBeF",
        "outputId": "0f653bff-b7c6-4e5e-ea6d-4509fd56c3f5"
      },
      "source": [
        "x = 2.5\n",
        "print(type(x)) # No print\n",
        "type(x)"
      ],
      "execution_count": null,
      "outputs": [
        {
          "output_type": "stream",
          "text": [
            "<class 'float'>\n"
          ],
          "name": "stdout"
        },
        {
          "output_type": "execute_result",
          "data": {
            "text/plain": [
              "float"
            ]
          },
          "metadata": {
            "tags": []
          },
          "execution_count": 3
        }
      ]
    },
    {
      "cell_type": "markdown",
      "metadata": {
        "id": "Tjgu0s_QmBeX"
      },
      "source": [
        "``bool`` used for boolean indicators"
      ]
    },
    {
      "cell_type": "code",
      "metadata": {
        "id": "kftA0tCvmBee",
        "outputId": "cdbb8368-3389-47fc-ff6d-411314f956a5"
      },
      "source": [
        "t, f = True, False\n",
        "\n",
        "print(t and f)           # Logical AND;\n",
        "print(t or f)            # Logical OR;\n",
        "print(not t)             # Logical NOT;\n",
        "print(t != f)            # Logical XOR;\n",
        "print(t + f)             # Integer\n",
        "print(t * f)             #\n",
        "print(t and not t or t)  # Use brackets!"
      ],
      "execution_count": null,
      "outputs": [
        {
          "output_type": "stream",
          "text": [
            "False\n",
            "True\n",
            "False\n",
            "True\n",
            "1\n",
            "0\n",
            "True\n"
          ],
          "name": "stdout"
        }
      ]
    },
    {
      "cell_type": "markdown",
      "metadata": {
        "id": "P7ZZ-ZCLmBev"
      },
      "source": [
        "``str`` for handling strings. Lots of tricks related ``str`` but may not be too relevant for this course"
      ]
    },
    {
      "cell_type": "code",
      "metadata": {
        "id": "JBqyAprkmBey"
      },
      "source": [
        ""
      ],
      "execution_count": null,
      "outputs": []
    },
    {
      "cell_type": "code",
      "metadata": {
        "id": "pUhdwUy5mBe9",
        "outputId": "48fe8e5f-473b-4ab6-bd55-9152f9e9c208"
      },
      "source": [
        "hello = 'hello'   # String literals can use single quotes\n",
        "world = \"world\"   # or double quotes; it does not matter.\n",
        "print(hello)\n",
        "print(len(hello))\n",
        "print(hello + \" \" + world)"
      ],
      "execution_count": null,
      "outputs": [
        {
          "output_type": "stream",
          "text": [
            "hello\n",
            "5\n",
            "hello world\n"
          ],
          "name": "stdout"
        }
      ]
    },
    {
      "cell_type": "markdown",
      "metadata": {
        "id": "88b2ldI8mBfT"
      },
      "source": [
        "Python also has some useful constants"
      ]
    },
    {
      "cell_type": "code",
      "metadata": {
        "id": "EN-giG2BmBfV",
        "outputId": "3e063922-17b2-4699-caa0-b527ce8410b5"
      },
      "source": [
        "infinity = float('inf')\n",
        "print(infinity > 3)\n",
        "print(infinity < 3)\n",
        "print(infinity == 2)\n",
        "print(infinity + 1)"
      ],
      "execution_count": null,
      "outputs": [
        {
          "output_type": "stream",
          "text": [
            "True\n",
            "False\n",
            "False\n",
            "inf\n"
          ],
          "name": "stdout"
        }
      ]
    },
    {
      "cell_type": "code",
      "metadata": {
        "id": "jqrj7OrImBfm",
        "outputId": "bf343486-107b-4171-c94f-63eb506e4687"
      },
      "source": [
        "none_val = None\n",
        "\n",
        "if none_val is None:\n",
        "    print(\"Clause is None\")"
      ],
      "execution_count": null,
      "outputs": [
        {
          "output_type": "stream",
          "text": [
            "Clause is None\n"
          ],
          "name": "stdout"
        }
      ]
    },
    {
      "cell_type": "markdown",
      "metadata": {
        "id": "ZEvl_5oamBf1"
      },
      "source": [
        "### Containers\n",
        "Store a collection of related objects\n",
        "* Lists\n",
        "* Tuples\n",
        "* Sets\n",
        "* Dictionaries"
      ]
    },
    {
      "cell_type": "code",
      "metadata": {
        "id": "UrA0GAxWmBf2",
        "outputId": "203721df-b8b0-43ed-9f62-9c5c33697672"
      },
      "source": [
        "xs = [3, 1, 2, 4, 7, 8]   # Create a list\n",
        "print(xs)\n",
        "print(xs[2])\n",
        "print(xs[-2])     # Negative indices count from the end of the list; prints \"2\""
      ],
      "execution_count": null,
      "outputs": [
        {
          "output_type": "stream",
          "text": [
            "[3, 1, 2, 4, 7, 8]\n",
            "2\n",
            "7\n"
          ],
          "name": "stdout"
        }
      ]
    },
    {
      "cell_type": "markdown",
      "metadata": {
        "id": "-Xyo4PKvmBgE"
      },
      "source": [
        "Slicing indices is key to accessing element subsets"
      ]
    },
    {
      "cell_type": "code",
      "metadata": {
        "id": "abm7pspWmBgG",
        "outputId": "45520e72-9098-4b74-c428-bd418eb53f39"
      },
      "source": [
        "print(xs)\n",
        "print(xs[2:4])      # Get a slice from index 2 to 4 (exclusive)\n",
        "print(xs[2:])       # Get a slice from index 2 to the end\n",
        "print(xs[:2])       # Get a slice from the start to index 2 (exclusive)\n",
        "print(xs[:])        # Get a slice of the whole list\n",
        "print(xs[3:-2])     # Slice indices can be negative\n",
        "xs[2:4] = [8, 9]  # Assign a new sublist to a slice\n",
        "print(xs)"
      ],
      "execution_count": null,
      "outputs": [
        {
          "output_type": "stream",
          "text": [
            "[3, 1, 2, 4, 7, 8]\n",
            "[2, 4]\n",
            "[2, 4, 7, 8]\n",
            "[3, 1]\n",
            "[3, 1, 2, 4, 7, 8]\n",
            "[4]\n",
            "[3, 1, 8, 9, 7, 8]\n"
          ],
          "name": "stdout"
        }
      ]
    },
    {
      "cell_type": "code",
      "metadata": {
        "id": "V6I4lQN4mBgW",
        "outputId": "c191ea12-fd18-4201-a51c-251df2cb1123"
      },
      "source": [
        "xs[2] = 'foo'    # Lists can contain elements of different types\n",
        "print(xs)"
      ],
      "execution_count": null,
      "outputs": [
        {
          "output_type": "stream",
          "text": [
            "[3, 1, 'foo', 9, 7, 8]\n"
          ],
          "name": "stdout"
        }
      ]
    },
    {
      "cell_type": "code",
      "metadata": {
        "id": "yZZZVIJfmBgg",
        "outputId": "3861af0f-6f41-4f24-edcb-ff3bc292905f"
      },
      "source": [
        "xs.append('bar') # Add a new element to the end of the list\n",
        "print(xs)  "
      ],
      "execution_count": null,
      "outputs": [
        {
          "output_type": "stream",
          "text": [
            "[3, 1, 'foo', 9, 7, 8, 'bar']\n"
          ],
          "name": "stdout"
        }
      ]
    },
    {
      "cell_type": "code",
      "metadata": {
        "id": "uOgDnaPvmBgu",
        "outputId": "b57ff039-8d0d-4209-e9ba-ececb1439884"
      },
      "source": [
        "x = xs.pop()     # Remove and return the last element of the list\n",
        "print(x)\n",
        "print(xs) "
      ],
      "execution_count": null,
      "outputs": [
        {
          "output_type": "stream",
          "text": [
            "bar\n",
            "[3, 1, 'foo', 9, 7, 8]\n"
          ],
          "name": "stdout"
        }
      ]
    },
    {
      "cell_type": "markdown",
      "metadata": {
        "id": "3B1VDaLMmBg7"
      },
      "source": [
        "What is the output of the following?\n",
        "```\n",
        "x = [1, 2, 3, 4, 5]\n",
        "x_copy = x\n",
        "x_copy2 = x\n",
        "x_copy = x_copy.append(10)\n",
        "x_copy2 = xcopy2 + [10]\n",
        "\n",
        "y = \"hello\"\n",
        "y_copy = y\n",
        "y_copy = y_copy + \" world\"\n",
        "\n",
        "print(x)\n",
        "print(x_copy)\n",
        "print(x_copy2)\n",
        "print(y)\n",
        "print(y_copy)\n",
        "```"
      ]
    },
    {
      "cell_type": "markdown",
      "metadata": {
        "id": "nhNG3nESmBg8"
      },
      "source": [
        "This is tricky, ``x_copy``, doesn't store a copy of ``x`` but is simply a different name for the same object. On the other hand, ``x_copy2`` is a new object. This isn't an issue with ``str`` objects."
      ]
    },
    {
      "cell_type": "code",
      "metadata": {
        "id": "rBE5N6TZmBg-",
        "outputId": "e295985e-8a49-48c3-a275-75c333b58225"
      },
      "source": [
        "x = [1, 2, 3, 4, 5]\n",
        "x_copy = x\n",
        "x_copy2 = x\n",
        "x_copy.append(10)\n",
        "x_copy2 = x_copy2 + [10]\n",
        "\n",
        "y = \"hello\"\n",
        "y_copy = y\n",
        "y_copy = y_copy + \" world\"\n",
        "\n",
        "print(x)\n",
        "print(x_copy)\n",
        "print(x_copy2)\n",
        "print(y)\n",
        "print(y_copy)"
      ],
      "execution_count": null,
      "outputs": [
        {
          "output_type": "stream",
          "text": [
            "[1, 2, 3, 4, 5, 10]\n",
            "[1, 2, 3, 4, 5, 10]\n",
            "[1, 2, 3, 4, 5, 10, 10]\n",
            "hello\n",
            "hello world\n"
          ],
          "name": "stdout"
        }
      ]
    },
    {
      "cell_type": "markdown",
      "metadata": {
        "id": "WLwHVeLKmBhM"
      },
      "source": [
        "Consider using deepcopy/copy instead"
      ]
    },
    {
      "cell_type": "code",
      "metadata": {
        "id": "T3CQTQ0imBhT",
        "outputId": "671c0f42-4b2d-442e-92fc-96d841eebf3f"
      },
      "source": [
        "from copy import deepcopy \n",
        "\n",
        "x = [1, 2, 3, 4, 5]\n",
        "x_copy = deepcopy(x)\n",
        "x_copy.append(10)\n",
        "print(x)\n",
        "print(x_copy)"
      ],
      "execution_count": null,
      "outputs": [
        {
          "output_type": "stream",
          "text": [
            "[1, 2, 3, 4, 5]\n",
            "[1, 2, 3, 4, 5, 10]\n"
          ],
          "name": "stdout"
        }
      ]
    },
    {
      "cell_type": "markdown",
      "metadata": {
        "id": "a6bshcK0mBhc"
      },
      "source": [
        "### Tuples\n",
        "The previous example highlights the difference between mutable and immutable objects. Tuples are similar to lists except that they cannot be modified in-place. A modification will result in the creation of a new tuple.\n"
      ]
    },
    {
      "cell_type": "code",
      "metadata": {
        "id": "HQcep0hqmBhe",
        "outputId": "785bd532-0ff8-477a-972f-fb8a48360549"
      },
      "source": [
        "x = (1, 2, 4, 5)\n",
        "y = [1, 2, 4, 3]\n",
        "print(x, type(x))\n",
        "print(y, type(y))\n",
        "\n",
        "print(x[2], y[2])   # Can access elements in set/tuple\n",
        "y[2] += 1\n",
        "print(y)\n",
        "# x[2] += 1          # Cannot modify element in a tuple (immutable)"
      ],
      "execution_count": null,
      "outputs": [
        {
          "output_type": "stream",
          "text": [
            "(1, 2, 4, 5) <class 'tuple'>\n",
            "[1, 2, 4, 3] <class 'list'>\n",
            "4 4\n",
            "[1, 2, 5, 3]\n"
          ],
          "name": "stdout"
        }
      ]
    },
    {
      "cell_type": "markdown",
      "metadata": {
        "id": "L0S9e6swmBhq"
      },
      "source": [
        "a ``set`` emulates the properties of a mathematical set"
      ]
    },
    {
      "cell_type": "code",
      "metadata": {
        "id": "PjPztly8mBhv",
        "outputId": "dfbc3f86-3074-4f9a-b16b-88d4959f559a"
      },
      "source": [
        "animals = {'cat', 'mouse', 'pigeon'}\n",
        "print(animals)\n",
        "animals = set(['cat', 'mouse', 'pigeon'])\n",
        "print(animals)\n",
        "\n",
        "animals.add('cat')       # Adding an element that is already in the set does nothing\n",
        "print(len(animals))       \n",
        "animals.remove('cat')    # Remove an element from a set\n",
        "print(len(animals))    "
      ],
      "execution_count": null,
      "outputs": [
        {
          "output_type": "stream",
          "text": [
            "{'mouse', 'cat', 'pigeon'}\n",
            "{'mouse', 'cat', 'pigeon'}\n",
            "3\n",
            "2\n"
          ],
          "name": "stdout"
        }
      ]
    },
    {
      "cell_type": "markdown",
      "metadata": {
        "id": "NoNbuZDcmBh9"
      },
      "source": [
        "A dictionary (``dict``) is used to represent mappings from an immutable objects, to any object"
      ]
    },
    {
      "cell_type": "code",
      "metadata": {
        "id": "-Obk2ABTmBh-",
        "outputId": "2521bc3c-d217-451c-8f06-0bcb54c5d807"
      },
      "source": [
        "accuracy = {\n",
        "    \"SVM\": 80,\n",
        "    (\"Neural net\", \"v1\"): 93\n",
        "}\n",
        "accuracy[\"Random\"] = 50\n",
        "\n",
        "# Access keys and values/items\n",
        "print(accuracy.keys())\n",
        "print(accuracy.items())\n",
        "\n",
        "print(accuracy)"
      ],
      "execution_count": null,
      "outputs": [
        {
          "output_type": "stream",
          "text": [
            "dict_keys(['SVM', ('Neural net', 1), 'Random'])\n",
            "dict_items([('SVM', 80), (('Neural net', 1), 93), ('Random', 50)])\n",
            "{'SVM': 80, ('Neural net', 1): 93, 'Random': 50}\n"
          ],
          "name": "stdout"
        }
      ]
    },
    {
      "cell_type": "markdown",
      "metadata": {
        "id": "yFamnKg-mBiL"
      },
      "source": [
        "### Loops\n",
        "\n",
        "``for``, ``while`` and ``do while`` based loops exist in python. The ``for`` is the best choice for most situations due to its operability with various objects.\n"
      ]
    },
    {
      "cell_type": "code",
      "metadata": {
        "id": "tXJ37NLQmBiM",
        "outputId": "9d6fe840-4638-41c3-a235-edcc939556d9"
      },
      "source": [
        "xs = [3, 4, 8, 9]\n",
        "for x in xs:\n",
        "    print(x)"
      ],
      "execution_count": null,
      "outputs": [
        {
          "output_type": "stream",
          "text": [
            "3\n",
            "4\n",
            "8\n",
            "9\n"
          ],
          "name": "stdout"
        }
      ]
    },
    {
      "cell_type": "markdown",
      "metadata": {
        "id": "v-9fRj0VmBiZ"
      },
      "source": [
        "Works on other objects like sets/dictionaries. However, the iteration sequence cannot be relied upon"
      ]
    },
    {
      "cell_type": "code",
      "metadata": {
        "id": "cyUnQi98mBib",
        "outputId": "6d4bb924-e79b-4077-8244-f0b055e7b5b7"
      },
      "source": [
        "for a in animals:\n",
        "    print(a + \" is in the set\")"
      ],
      "execution_count": null,
      "outputs": [
        {
          "output_type": "stream",
          "text": [
            "mouse is in the set\n",
            "pigeon is in the set\n"
          ],
          "name": "stdout"
        }
      ]
    },
    {
      "cell_type": "code",
      "metadata": {
        "id": "f3H-sgXdmBii",
        "outputId": "0bf5428d-31d0-4923-fec7-3fff9d0c976a"
      },
      "source": [
        "num_map = {'a':1, 'c':3, 'z':26, 'e':5}  # Output is not in same ordered\n",
        "for key in num_map:\n",
        "    print(key, num_map[key])\n",
        "    \n",
        "# If you want to maintain order, consider using OrderedDict"
      ],
      "execution_count": null,
      "outputs": [
        {
          "output_type": "stream",
          "text": [
            "a 1\n",
            "c 3\n",
            "z 26\n",
            "e 5\n"
          ],
          "name": "stdout"
        }
      ]
    },
    {
      "cell_type": "markdown",
      "metadata": {
        "id": "XQFV8EwImBiq"
      },
      "source": [
        "``range`` and ``enumerate`` are useful in-built functions that pair well with loops"
      ]
    },
    {
      "cell_type": "code",
      "metadata": {
        "id": "C1OJ6RhVmBiq",
        "outputId": "5c314a01-f852-49d6-c00f-135898c6a743"
      },
      "source": [
        "for idx, x in enumerate(xs):\n",
        "    print(idx, x)"
      ],
      "execution_count": null,
      "outputs": [
        {
          "output_type": "stream",
          "text": [
            "0 3\n",
            "1 4\n",
            "2 8\n",
            "3 9\n"
          ],
          "name": "stdout"
        }
      ]
    },
    {
      "cell_type": "code",
      "metadata": {
        "id": "5HzKvEr9mBiw",
        "outputId": "341b9a37-2059-4465-86a1-ad1d9585ebcb"
      },
      "source": [
        "for i in range(2, 11, 2):\n",
        "    print(i)"
      ],
      "execution_count": null,
      "outputs": [
        {
          "output_type": "stream",
          "text": [
            "2\n",
            "4\n",
            "6\n",
            "8\n",
            "10\n"
          ],
          "name": "stdout"
        }
      ]
    },
    {
      "cell_type": "markdown",
      "metadata": {
        "id": "frUyYiTcmBi1"
      },
      "source": [
        "An alternate way to execute:\n",
        "```\n",
        "xs = [2, 3, 6, 8]\n",
        "for i in range(len(xs)):\n",
        "    xs[i] = xs[i] ** 2\n",
        "```"
      ]
    },
    {
      "cell_type": "code",
      "metadata": {
        "id": "-WspvFr2mBi2",
        "outputId": "a4057ae0-d9bb-4302-da02-7ae9497fd1b7"
      },
      "source": [
        "xs = [x**2 for x in xs]\n",
        "print(xs)"
      ],
      "execution_count": null,
      "outputs": [
        {
          "output_type": "stream",
          "text": [
            "[9, 16, 64, 81]\n"
          ],
          "name": "stdout"
        }
      ]
    },
    {
      "cell_type": "markdown",
      "metadata": {
        "id": "YNTa94yNmBi8"
      },
      "source": [
        "### Functions\n",
        "\n",
        "Helps break down code into modules. Easier to test correctness of various functions individually. Also improves readability and re-usability of code "
      ]
    },
    {
      "cell_type": "code",
      "metadata": {
        "id": "7KkpcH9xmBi9",
        "outputId": "dd1f47df-07c4-4142-99a4-c4b1a383fd5d"
      },
      "source": [
        "# Optional argument witha default\n",
        "def sign(x, silent=True):\n",
        "    if x > 0:\n",
        "        retval = 'positive'\n",
        "    elif x < 0:\n",
        "        retval = 'negative'\n",
        "    else:\n",
        "        retval = 'zero'\n",
        "    \n",
        "    if not silent:\n",
        "        print(retval)\n",
        "    return retval\n",
        "\n",
        "answer1 = sign(1)\n",
        "answer2 = sign(-1, silent=False)\n",
        "\n",
        "print(answer1, answer2)"
      ],
      "execution_count": null,
      "outputs": [
        {
          "output_type": "stream",
          "text": [
            "negative\n",
            "positive negative\n"
          ],
          "name": "stdout"
        }
      ]
    },
    {
      "cell_type": "markdown",
      "metadata": {
        "id": "JbdQwKAUmBjA"
      },
      "source": [
        "Functions have complicated relationships with global variables. There are a lot of complexities to functions like nested functions, persistent variables, etc.."
      ]
    },
    {
      "cell_type": "code",
      "metadata": {
        "id": "L3YVIzTXmBjC",
        "outputId": "1e6a2d3d-a8ac-440f-9a42-6e6e45a8b817"
      },
      "source": [
        "# 1) Variables have contexts, prefix variable unafffected by variable of same name inside function\n",
        "prefix = \"global:\"\n",
        "\n",
        "\n",
        "# 2) Kwargs can accept a variable number of arguments\n",
        "def printargs(y=\"test\", **kwargs):\n",
        "    prefix = \"function:\"\n",
        "    print(prefix, \"y=\" + y)\n",
        "    \n",
        "    for k in kwargs:\n",
        "        print(prefix, k + \"=\" + str(kwargs[k]))\n",
        "\n",
        "print(prefix, \"Executing functions\")    \n",
        "printargs(random_seed=\"13\", cv=5)\n",
        "print(prefix, \"---------------\")\n",
        "printargs(y=\"train\", random_seed=\"5\")\n",
        "print(prefix, \"Finished executing functions\")"
      ],
      "execution_count": null,
      "outputs": [
        {
          "output_type": "stream",
          "text": [
            "global: Executing functions\n",
            "function: y=test\n",
            "function: random_seed=13\n",
            "function: cv=5\n",
            "global: ---------------\n",
            "function: y=train\n",
            "function: random_seed=5\n",
            "global: Finished executing functions\n"
          ],
          "name": "stdout"
        }
      ]
    },
    {
      "cell_type": "markdown",
      "metadata": {
        "id": "b5d7qvmImBjG"
      },
      "source": [
        "### Classes\n",
        "Helps us organize a collection of related functions."
      ]
    },
    {
      "cell_type": "code",
      "metadata": {
        "id": "Q5gqpFu6mBjH",
        "outputId": "78075a60-25f8-4980-dec1-5e3adf5bfddc"
      },
      "source": [
        "class Greeter:\n",
        "    \n",
        "    # Constructor\n",
        "    def __init__(self, name):\n",
        "        self.name = name  # Create an instance variable\n",
        "\n",
        "    # Instance method\n",
        "    def greet(self):\n",
        "        print('Hello From This Side , %s' % self.name)\n",
        "            \n",
        "    @staticmethod\n",
        "    def question():\n",
        "        print(\"How are you doing?\")\n",
        "    \n",
        "    \n",
        "g = Greeter('Fred')  # Construct an instance of the Greeter class\n",
        "g.greet()            # Call an instance method; prints \"'Hello From This Side , Fred\"\n",
        "g.question()"
      ],
      "execution_count": null,
      "outputs": [
        {
          "output_type": "stream",
          "text": [
            "Hello From This Side , Fred\n",
            "How are you doing?\n"
          ],
          "name": "stdout"
        }
      ]
    },
    {
      "cell_type": "code",
      "metadata": {
        "id": "b0V0OqRomBjK",
        "outputId": "f4bd6490-369d-4094-a7c4-84257a83995a"
      },
      "source": [
        "class DerivedGreeter(Greeter):\n",
        "    # Instance method overrides that of base class.\n",
        "    def greet(self):\n",
        "        print('Hello From The Other Side , %s' % self.name)\n",
        "\n",
        "    \n",
        "g = DerivedGreeter('Fred')  # Construct an instance of the Greeter class\n",
        "g.greet()                   # Call an instance method; prints \"'Hello From The Other Side , Fred\"\n",
        "g.question()                # the question() function is also accessible"
      ],
      "execution_count": null,
      "outputs": [
        {
          "output_type": "stream",
          "text": [
            "Hello From The Other Side , Fred\n",
            "How are you doing?\n"
          ],
          "name": "stdout"
        }
      ]
    },
    {
      "cell_type": "markdown",
      "metadata": {
        "id": "ehtvI0VVmBjO"
      },
      "source": [
        "## Numpy\n",
        "Popular library for scientific computing that handles multi-dimensional objects. Most of the code is written in C++/C and is hence highly performant. Numpy arrays are a collection of homogenous objects (generally floats of varying precision). Can be modified using a variety of numpy functions"
      ]
    },
    {
      "cell_type": "code",
      "metadata": {
        "id": "SHszWyTimBjO",
        "colab": {
          "base_uri": "https://localhost:8080/",
          "height": 136
        },
        "outputId": "e5875209-f0ef-43c7-fe26-6ae9afb16a8f"
      },
      "source": [
        "import numpy as np\n",
        "\n",
        "x = np.array([3, 2, 1, 4, 2, 3])\n",
        "print(type(x))\n",
        "\n",
        "print(np.sort(x))\n",
        "print(np.argsort(x))\n",
        "print(np.unique(x))\n",
        "print(np.sqrt(x))\n",
        "print(np.min(x), np.max(x), np.mean(x), np.std(x))"
      ],
      "execution_count": null,
      "outputs": [
        {
          "output_type": "stream",
          "text": [
            "<class 'numpy.ndarray'>\n",
            "[1 2 2 3 3 4]\n",
            "[2 1 4 0 5 3]\n",
            "[1 2 3 4]\n",
            "[1.73205081 1.41421356 1.         2.         1.41421356 1.73205081]\n",
            "1 4 2.5 0.9574271077563381\n"
          ],
          "name": "stdout"
        }
      ]
    },
    {
      "cell_type": "markdown",
      "metadata": {
        "id": "HhD1aIsRk1j0"
      },
      "source": [
        "The Numpy philosophy involves simultaneously operating on a group of elements as opposed to using for loops. Manipulating all rows or columns is a common in numpy and is done using the ``axis`` argument."
      ]
    },
    {
      "cell_type": "code",
      "metadata": {
        "id": "I73dNE3jmBjV",
        "outputId": "f27f6287-7339-4de6-f4b7-51f321407e89"
      },
      "source": [
        "x = np.reshape(x, (2, 3))\n",
        "print(\"Matrix\", x)\n",
        "print(\"Mat mul.\", x @ x.T)\n",
        "print(\"Elemwise mul.\", x * x)\n",
        "\n",
        "print(\"Min in each axis\", np.min(x, axis=(0,)))\n",
        "print(\"Min in each axis\", np.min(x, axis=(0,1)))"
      ],
      "execution_count": null,
      "outputs": [
        {
          "output_type": "stream",
          "text": [
            "Matrix [[3 2 1]\n",
            " [4 2 3]]\n",
            "Mat mul. [[14 19]\n",
            " [19 29]]\n",
            "Elemwise mul. [[ 9  4  1]\n",
            " [16  4  9]]\n",
            "Min in each axis [3 2 1]\n",
            "Min in each axis 1\n"
          ],
          "name": "stdout"
        }
      ]
    },
    {
      "cell_type": "code",
      "metadata": {
        "id": "1aoIPXipmBjZ",
        "outputId": "ac4f3591-426b-40c2-aada-96c879ec1535"
      },
      "source": [
        "print(np.zeros((2,2)))"
      ],
      "execution_count": null,
      "outputs": [
        {
          "output_type": "stream",
          "text": [
            "[[0. 0.]\n",
            " [0. 0.]]\n"
          ],
          "name": "stdout"
        }
      ]
    },
    {
      "cell_type": "markdown",
      "metadata": {
        "id": "vcHMFQLVlXxn"
      },
      "source": [
        "Numpy also has a random number generator"
      ]
    },
    {
      "cell_type": "code",
      "metadata": {
        "id": "S7gRKzXAmBjd",
        "outputId": "f302cd1d-da8b-4e10-cab5-076d42d3a0f6"
      },
      "source": [
        "print(np.random.randn(2, 2))"
      ],
      "execution_count": null,
      "outputs": [
        {
          "output_type": "stream",
          "text": [
            "[[ 1.91040953  0.1292269 ]\n",
            " [-0.99174988 -2.59161813]]\n"
          ],
          "name": "stdout"
        }
      ]
    },
    {
      "cell_type": "markdown",
      "metadata": {
        "id": "gyrxXDJOlNBJ"
      },
      "source": [
        "The Documentation is your friend."
      ]
    },
    {
      "cell_type": "code",
      "metadata": {
        "id": "Qfuc4nCkmBjg"
      },
      "source": [
        "?np.random.randn"
      ],
      "execution_count": null,
      "outputs": []
    },
    {
      "cell_type": "markdown",
      "metadata": {
        "id": "WR9oIm_ZlbLG"
      },
      "source": [
        "One can concatenate, reshape and merge numpy arrays in various ways"
      ]
    },
    {
      "cell_type": "code",
      "metadata": {
        "id": "Y81JcUrJmBji",
        "outputId": "fe63c040-f8f2-4998-b55d-806339ce08e6"
      },
      "source": [
        "x = np.array([1, 2, 3, 4])\n",
        "y = np.array([5, 6, 7, 8])\n",
        "print(np.concatenate([x, y]))"
      ],
      "execution_count": null,
      "outputs": [
        {
          "output_type": "stream",
          "text": [
            "[1 2 3 4 5 6 7 8]\n"
          ],
          "name": "stdout"
        }
      ]
    },
    {
      "cell_type": "code",
      "metadata": {
        "id": "2n1-VU4smBjm",
        "outputId": "12467cf9-5d6c-4d38-f517-344cd12eced2"
      },
      "source": [
        "print(x.shape)\n",
        "print(x[np.newaxis, :].shape)\n",
        "\n",
        "print(np.concatenate([ x[np.newaxis,:], y[np.newaxis, :]], axis=0))"
      ],
      "execution_count": null,
      "outputs": [
        {
          "output_type": "stream",
          "text": [
            "(4,)\n",
            "(1, 4)\n",
            "[[1 2 3 4]\n",
            " [5 6 7 8]]\n"
          ],
          "name": "stdout"
        }
      ]
    },
    {
      "cell_type": "markdown",
      "metadata": {
        "id": "ZzX_LdXzlgyU"
      },
      "source": [
        "Indexing and slicing are useful operations that work similar to lists. "
      ]
    },
    {
      "cell_type": "code",
      "metadata": {
        "id": "1ycZ0qQEmBjq",
        "outputId": "c171f361-1712-4d26-d225-59cc0b42e4c3"
      },
      "source": [
        "# Indexing\n",
        "x = np.random.randn(2, 2)\n",
        "print(x)\n",
        "print(x > 2)\n",
        "print(x[x > 2])\n",
        "print(np.where(x > 2))"
      ],
      "execution_count": null,
      "outputs": [
        {
          "output_type": "stream",
          "text": [
            "[[ 2.03986829 -1.50273902]\n",
            " [ 0.15573528  0.0391188 ]]\n",
            "[[ True False]\n",
            " [False False]]\n",
            "[2.03986829]\n",
            "(array([0]), array([0]))\n"
          ],
          "name": "stdout"
        }
      ]
    },
    {
      "cell_type": "code",
      "metadata": {
        "id": "xQbCVCComBjt",
        "outputId": "cca357f6-d618-4169-c8a2-c963e6f9c67d"
      },
      "source": [
        "# Slicing\n",
        "x = np.random.randn(3, 3)\n",
        "print(x)\n",
        "print(x[0:2, 0:2])"
      ],
      "execution_count": null,
      "outputs": [
        {
          "output_type": "stream",
          "text": [
            "[[-0.54880483 -0.21519764 -1.21458835]\n",
            " [-0.30905259  2.44589833 -0.245343  ]\n",
            " [ 0.47641028 -0.4797279  -1.2069618 ]]\n",
            "[[-0.54880483 -0.21519764]\n",
            " [-0.30905259  2.44589833]]\n"
          ],
          "name": "stdout"
        }
      ]
    },
    {
      "cell_type": "markdown",
      "metadata": {
        "id": "ARqVFm5-lph4"
      },
      "source": [
        "\n",
        "Broadcasting is perhaps the most important concept to understand in numpy. The core idea is that if certain dimensions are missing for an operation, these extra dimensions are hallucinated by replicating the numpy array along those dimensions"
      ]
    },
    {
      "cell_type": "code",
      "metadata": {
        "id": "0TYbxAQPmBjx"
      },
      "source": [
        "# We will add the vector v to each row of the matrix x,\n",
        "# storing the result in the matrix y\n",
        "x = np.array([[1,2,3], [4,5,6], [7,8,9], [10, 11, 12]])\n",
        "v = np.array([1, 0, 1])"
      ],
      "execution_count": null,
      "outputs": []
    },
    {
      "cell_type": "code",
      "metadata": {
        "id": "JxsNMgvpmBj0",
        "colab": {
          "base_uri": "https://localhost:8080/",
          "height": 176
        },
        "outputId": "2532cd20-2110-4000-f3eb-d0ad2c410954"
      },
      "source": [
        "v_replica = np.tile(v, (4, 1))\n",
        "y  = x + v_replica\n",
        "print(v_replica)\n",
        "print(y)"
      ],
      "execution_count": null,
      "outputs": [
        {
          "output_type": "stream",
          "text": [
            "[[1 0 1]\n",
            " [1 0 1]\n",
            " [1 0 1]\n",
            " [1 0 1]]\n",
            "[[ 2  2  4]\n",
            " [ 5  5  7]\n",
            " [ 8  8 10]\n",
            " [11 11 13]]\n"
          ],
          "name": "stdout"
        }
      ]
    },
    {
      "cell_type": "code",
      "metadata": {
        "id": "M6Xw2aE-mBj3",
        "colab": {
          "base_uri": "https://localhost:8080/",
          "height": 96
        },
        "outputId": "ea2dc3d3-453f-49a3-a380-e103542d7a10"
      },
      "source": [
        "# The same operation is simulated in broadcasting\n",
        "y = x + v  \n",
        "print(y)"
      ],
      "execution_count": null,
      "outputs": [
        {
          "output_type": "stream",
          "text": [
            "[[ 2  2  4]\n",
            " [ 5  5  7]\n",
            " [ 8  8 10]\n",
            " [11 11 13]]\n"
          ],
          "name": "stdout"
        }
      ]
    },
    {
      "cell_type": "code",
      "metadata": {
        "id": "mfH8WJ_-mBj8",
        "colab": {
          "base_uri": "https://localhost:8080/",
          "height": 96
        },
        "outputId": "1af52b25-0a81-487d-83e7-3cf2c159ffb4"
      },
      "source": [
        "# The principle applies when a dimensions of x and y dont match on multiple axes\n",
        "x = np.array([[1, 2, 3]])\n",
        "y = np.array([[2], [3], [5]])\n",
        "print(x.shape, y.shape)\n",
        "print(x + y)"
      ],
      "execution_count": null,
      "outputs": [
        {
          "output_type": "stream",
          "text": [
            "(1, 3) (3, 1)\n",
            "[[3 4 5]\n",
            " [4 5 6]\n",
            " [6 7 8]]\n"
          ],
          "name": "stdout"
        }
      ]
    },
    {
      "cell_type": "markdown",
      "metadata": {
        "id": "1FpH4IeMmBj_"
      },
      "source": [
        "## Matplotlib\n",
        "\n",
        "Matplotlib is a feature rich plotting library for python.\n",
        "There are other neat plotting tools like Seaborn/Plotnine which can plot complex plots in fewer lines of code."
      ]
    },
    {
      "cell_type": "code",
      "metadata": {
        "id": "t_DhEdA5mBkA"
      },
      "source": [
        "import numpy as np\n",
        "import matplotlib.pyplot as plt\n",
        "\n",
        "# Run in jupyter notebooks to display plots below cells\n",
        "%matplotlib inline              "
      ],
      "execution_count": null,
      "outputs": []
    },
    {
      "cell_type": "code",
      "metadata": {
        "id": "7F1aIMjsmBkS",
        "outputId": "72e54ba4-e80d-48b8-cb80-e1bcf2a9178d"
      },
      "source": [
        "# Compute the x and y coordinates for points on a sine curve\n",
        "x = np.arange(0, 3 * np.pi, 0.1)\n",
        "y = np.sin(x)\n",
        "\n",
        "# Plot the points using matplotlib\n",
        "plt.plot(x, y)"
      ],
      "execution_count": null,
      "outputs": [
        {
          "output_type": "execute_result",
          "data": {
            "text/plain": [
              "[<matplotlib.lines.Line2D at 0x7f02cf23c860>]"
            ]
          },
          "metadata": {
            "tags": []
          },
          "execution_count": 43
        },
        {
          "output_type": "display_data",
          "data": {
            "image/png": "[encoded data removed]",
            "text/plain": [
              "<Figure size 432x288 with 1 Axes>"
            ]
          },
          "metadata": {
            "tags": [],
            "needs_background": "light"
          }
        }
      ]
    },
    {
      "cell_type": "code",
      "metadata": {
        "id": "Omf_UC40mBkX",
        "outputId": "b4e4c60e-6d3b-4c55-c077-ea60ff20abd7"
      },
      "source": [
        "y_sin = np.sin(x)\n",
        "y_cos = np.cos(x)\n",
        "\n",
        "# Plot the points using matplotlib\n",
        "plt.style.use(\"fivethirtyeight\")\n",
        "plt.scatter(x, y_sin, c='r', alpha=0.8)\n",
        "plt.scatter(x, y_cos, c='b', alpha=0.3)\n",
        "plt.xlabel('x axis label')\n",
        "plt.ylabel('y axis label')\n",
        "plt.title('Sine and Cosine')\n",
        "plt.legend(['Sine', 'Cosine'], loc='upper right')"
      ],
      "execution_count": null,
      "outputs": [
        {
          "output_type": "execute_result",
          "data": {
            "text/plain": [
              "<matplotlib.legend.Legend at 0x7f02cf21e400>"
            ]
          },
          "metadata": {
            "tags": []
          },
          "execution_count": 44
        },
        {
          "output_type": "display_data",
          "data": {
            "image/png": "[encoded data removed]",
            "text/plain": [
              "<Figure size 432x288 with 1 Axes>"
            ]
          },
          "metadata": {
            "tags": []
          }
        }
      ]
    },
    {
      "cell_type": "code",
      "metadata": {
        "id": "N7UFobNtmBkb",
        "outputId": "ff44af2a-d876-4408-b38f-df142da0ffae"
      },
      "source": [
        "# Compute the x and y coordinates for points on sine and cosine curves\n",
        "x = np.arange(0, 3 * np.pi, 0.1)\n",
        "y_sin = np.sin(x)\n",
        "y_cos = np.cos(x)\n",
        "\n",
        "# Set up a subplot grid that has height 2 and width 1,\n",
        "# and set the first such subplot as active.\n",
        "plt.subplot(2, 1, 1)\n",
        "\n",
        "# Make the first plot\n",
        "plt.plot(x, y_sin)\n",
        "plt.title('Sine')\n",
        "\n",
        "# Set the second subplot as active, and make the second plot.\n",
        "plt.subplot(2, 1, 2)\n",
        "plt.plot(x, y_cos)\n",
        "plt.title('Cosine')\n",
        "\n",
        "# Show the figure.\n",
        "plt.show()"
      ],
      "execution_count": null,
      "outputs": [
        {
          "output_type": "display_data",
          "data": {
            "image/png": "[encoded data removed]",
            "text/plain": [
              "<Figure size 432x288 with 2 Axes>"
            ]
          },
          "metadata": {
            "tags": []
          }
        }
      ]
    }
  ]
}